{
 "cells": [
  {
   "cell_type": "markdown",
   "metadata": {},
   "source": [
    "# Step one\n",
    "### Data Engineering Pipeline - Extract, Transform, Load (ETL) 3. Data integration (extract)"
   ]
  },
  {
   "cell_type": "code",
   "execution_count": 2,
   "metadata": {},
   "outputs": [],
   "source": [
    "## Import packages\n",
    "\n",
    "import pandas as pd\n"
   ]
  },
  {
   "cell_type": "code",
   "execution_count": 3,
   "metadata": {},
   "outputs": [
    {
     "ename": "NameError",
     "evalue": "name 'ids_0' is not defined",
     "output_type": "error",
     "traceback": [
      "\u001b[1;31m---------------------------------------------------------------------------\u001b[0m",
      "\u001b[1;31mNameError\u001b[0m                                 Traceback (most recent call last)",
      "Cell \u001b[1;32mIn[3], line 2\u001b[0m\n\u001b[0;32m      1\u001b[0m \u001b[38;5;66;03m# Load the CSV files\u001b[39;00m\n\u001b[1;32m----> 2\u001b[0m csv0 \u001b[38;5;241m=\u001b[39m pd\u001b[38;5;241m.\u001b[39mread_csv(ids_0\u001b[38;5;241m.\u001b[39mcsv)\n\u001b[0;32m      3\u001b[0m csv1 \u001b[38;5;241m=\u001b[39m pd\u001b[38;5;241m.\u001b[39mread_csv(ids_1\u001b[38;5;241m.\u001b[39mcsv)\n\u001b[0;32m      4\u001b[0m csv2 \u001b[38;5;241m=\u001b[39m pd\u001b[38;5;241m.\u001b[39mread_csv(ids_2\u001b[38;5;241m.\u001b[39mcsv)\n",
      "\u001b[1;31mNameError\u001b[0m: name 'ids_0' is not defined"
     ]
    }
   ],
   "source": [
    "# Load the CSV files\n",
    "csv0 = pd.read_csv(\"ids_0.csv\")\n",
    "csv1 = pd.read_csv(\"ids_1.csv\")\n",
    "csv2 = pd.read_csv(\"ids_2.csv\")\n",
    "combined = pd.concat([ csv0 , csv1 , csv2], ignore_index=True)\n",
    "\n",
    "# Load the JSON files\n",
    "json3 = pd.read_json(\"ids_3.json\", lines=True)\n",
    "json4 = pd.read_json(\"ids_4.json\", lines=True)\n",
    "json7 = pd.read_json(\"ids_7.json\", lines=True)\n",
    "json9 = pd.read_json(\"ids_9.json\", lines=True)\n",
    "json10 = pd.read_json(\"ids_10.json\", lines=True)\n",
    "combined = pd.concat([combined , json3 , json4 , json7 , json9 , json10], ignore_index=True)\n",
    "\n",
    "# Load the Parquet files\n",
    "parquet5 = pd.read_parquet(\"ids_5.parquet\")\n",
    "parquet6 = pd.read_parquet(\"ids_6.parquet\")\n",
    "parquet8 = pd.read_parquet(\"ids_8.parquet\")\n",
    "parquet11 = pd.read_parquet(\"ids_11.parquet\")\n",
    "combined = pd.concat([combined , parquet5 , parquet6 , parquet8 , parquet11], ignore_index=True)\n",
    "\n",
    "# Display the combined DataFrame\n",
    "print(combined)\n"
   ]
  }
 ],
 "metadata": {
  "kernelspec": {
   "display_name": "base",
   "language": "python",
   "name": "python3"
  },
  "language_info": {
   "codemirror_mode": {
    "name": "ipython",
    "version": 3
   },
   "file_extension": ".py",
   "mimetype": "text/x-python",
   "name": "python",
   "nbconvert_exporter": "python",
   "pygments_lexer": "ipython3",
   "version": "3.11.7"
  }
 },
 "nbformat": 4,
 "nbformat_minor": 2
}
