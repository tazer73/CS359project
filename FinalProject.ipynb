{
 "cells": [
  {
   "cell_type": "markdown",
   "metadata": {},
   "source": [
    "# Step one\n",
    "### Data Engineering Pipeline - Extract, Transform, Load (ETL) 3. Data integration (extract)"
   ]
  },
  {
   "cell_type": "code",
   "execution_count": null,
   "metadata": {},
   "outputs": [],
   "source": [
    "## Import packages\n",
    "\n",
    "import pandas as pd\n",
    "import glob"
   ]
  },
  {
   "cell_type": "code",
   "execution_count": null,
   "metadata": {},
   "outputs": [],
   "source": [
    "def extract():\n",
    "    \"\"\"This function combines all the csv, json, and parquet files into a dataframe\n",
    "    \n",
    "    Args:\n",
    "        None: The function reads all csv and json finles in the working directory\n",
    "        \n",
    "    Returns: \n",
    "        data (pd.dataframe): All data sources combined in a single dataframe\n",
    "    \"\"\"\n",
    "\n",
    "    #Create an empty dataframe to hold all the data.\n",
    "    #Column names remain as they were int the original files.\n",
    "    data = pd.DataFrame(columns=['Destination Port', 'Flow Duration', 'Total Fwd Packets',\n",
    "       'Total Backward Packets', 'Total Length of Fwd Packets',\n",
    "       'Total Length of Bwd Packets', 'Fwd Packet Length Max',\n",
    "       'Fwd Packet Length Min', 'Fwd Packet Length Mean',\n",
    "       'Fwd Packet Length Std', 'Bwd Packet Length Max',\n",
    "       'Bwd Packet Length Min', 'Bwd Packet Length Mean',\n",
    "       'Bwd Packet Length Std', 'Flow Bytes/s', 'Flow Packets/s',\n",
    "       'Flow IAT Mean', 'Flow IAT Std', 'Flow IAT Max', 'Flow IAT Min',\n",
    "       'Fwd IAT Total', 'Fwd IAT Mean', 'Fwd IAT Std', 'Fwd IAT Max',\n",
    "       'Fwd IAT Min', 'Bwd IAT Total', 'Bwd IAT Mean', 'Bwd IAT Std',\n",
    "       'Bwd IAT Max', 'Bwd IAT Min', 'Fwd PSH Flags', ' Bwd PSH Flags',\n",
    "       'Fwd URG Flags', 'Bwd URG Flags', 'Fwd Header Length',\n",
    "       'Bwd Header Length', 'Fwd Packets/s', 'Bwd Packets/s',\n",
    "       'Min Packet Length', 'Max Packet Length', ' Packet Length Mean',\n",
    "       'Packet Length Std', 'Packet Length Variance', 'FIN Flag Count',\n",
    "       'SYN Flag Count', 'RST Flag Count', 'PSH Flag Count',\n",
    "       'ACK Flag Count', 'URG Flag Count', 'CWE Flag Count',\n",
    "       'ECE Flag Count', 'Down/Up Ratio', 'Average Packet Size',\n",
    "       'Avg Fwd Segment Size', 'Avg Bwd Segment Size',\n",
    "       'Fwd Header Length.1', 'Fwd Avg Bytes/Bulk', 'Fwd Avg Packets/Bulk',\n",
    "       'Fwd Avg Bulk Rate', 'Bwd Avg Bytes/Bulk', 'Bwd Avg Packets/Bulk',\n",
    "       'Bwd Avg Bulk Rate', 'Subflow Fwd Packets', 'Subflow Fwd Bytes',\n",
    "       'Subflow Bwd Packets', ' Subflow Bwd Bytes', 'Init_Win_bytes_forward',\n",
    "       'Init_Win_bytes_backward', 'act_data_pkt_fwd',\n",
    "       'min_seg_size_forward', 'Active Mean', 'Active Std', 'Active Max',\n",
    "       'Active Min', 'Idle Mean', 'Idle Std', 'Idle Max', 'Idle Min',\n",
    "       'Label'])\n",
    "    \n",
    "    #For each file type: Create a temporary dataframe and concatenate to the 'data' dataframe.\n",
    "    for csvfile in glob.glob('*.csv'):\n",
    "        tmp_df = pd.read_csv(csvfile)\n",
    "        data = pd.concat([data,tmp_df], ignore_index=True)\n",
    "\n",
    "    for jsonfile in glob.glob('*.json'):\n",
    "        tmp_df = pd.read_json(jsonfile,lines=True)\n",
    "        data = pd.concat([data, tmp_df], ignore_index=True)\n",
    "\n",
    "    for parquetfile in glob.glob('*.parquet'):\n",
    "        tmp_df = pd.read_parquet(parquetfile)\n",
    "        data = pd.concat([data,tmp_df], ignore_index=True)\n",
    "    \n",
    "    #Return combined data.\n",
    "    return data"
   ]
  },
  {
   "cell_type": "code",
   "execution_count": null,
   "metadata": {},
   "outputs": [],
   "source": [
    "data = extract()\n",
    "print('data shape:', data.shape)\n",
    "print('column names:', data.columns)"
   ]
  }
 ],
 "metadata": {
  "kernelspec": {
   "display_name": "base",
   "language": "python",
   "name": "python3"
  },
  "language_info": {
   "codemirror_mode": {
    "name": "ipython",
    "version": 3
   },
   "file_extension": ".py",
   "mimetype": "text/x-python",
   "name": "python",
   "nbconvert_exporter": "python",
   "pygments_lexer": "ipython3",
   "version": "3.11.9"
  }
 },
 "nbformat": 4,
 "nbformat_minor": 2
}
